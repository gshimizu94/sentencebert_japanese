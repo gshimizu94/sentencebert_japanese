{
 "cells": [
  {
   "cell_type": "code",
   "execution_count": 1,
   "metadata": {},
   "outputs": [],
   "source": [
    "#　必要なライブラリをインポートする\n",
    "import numpy as np\n",
    "import pandas as pd\n",
    "from pprint import pprint as p\n",
    "import warnings\n",
    "import glob\n",
    "import itertools\n",
    "import transformers\n",
    "import sentence_transformers\n",
    "from sentence_transformers import SentenceTransformer, losses, InputExample\n",
    "from sentence_transformers import models\n",
    "from sentence_transformers.datasets import SentencesDataset\n",
    "from torch.utils.data import DataLoader\n",
    "from sklearn.decomposition import PCA\n",
    "import tqdm\n",
    "import matplotlib.pyplot as plt\n",
    "\n",
    "warnings.simplefilter('ignore')\n",
    "transformers.BertTokenizer = transformers.BertJapaneseTokenizer"
   ]
  },
  {
   "cell_type": "markdown",
   "metadata": {},
   "source": [
    "## 1.モデルを準備する"
   ]
  },
  {
   "cell_type": "code",
   "execution_count": 2,
   "metadata": {},
   "outputs": [
    {
     "name": "stderr",
     "output_type": "stream",
     "text": [
      "Some weights of the model checkpoint at cl-tohoku/bert-base-japanese-whole-word-masking were not used when initializing BertModel: ['cls.predictions.bias', 'cls.seq_relationship.weight', 'cls.predictions.transform.LayerNorm.bias', 'cls.seq_relationship.bias', 'cls.predictions.transform.dense.bias', 'cls.predictions.decoder.weight', 'cls.predictions.transform.LayerNorm.weight', 'cls.predictions.transform.dense.weight']\n",
      "- This IS expected if you are initializing BertModel from the checkpoint of a model trained on another task or with another architecture (e.g. initializing a BertForSequenceClassification model from a BertForPreTraining model).\n",
      "- This IS NOT expected if you are initializing BertModel from the checkpoint of a model that you expect to be exactly identical (initializing a BertForSequenceClassification model from a BertForSequenceClassification model).\n"
     ]
    }
   ],
   "source": [
    "# 事前学習済みBERTを読み込む\n",
    "bert = models.Transformer(\"cl-tohoku/bert-base-japanese-whole-word-masking\")\n",
    "pooling = models.Pooling(\n",
    "        bert.get_word_embedding_dimension(),\n",
    "        pooling_mode_mean_tokens=True,\n",
    ")\n",
    "model = SentenceTransformer(modules=[bert, pooling])"
   ]
  },
  {
   "cell_type": "code",
   "execution_count": 3,
   "metadata": {},
   "outputs": [],
   "source": [
    "# パラメータを設定\n",
    "BATCH_SIZE = 8\n",
    "NUM_EPOCH = 20\n",
    "EVAL_STEPS = 10\n",
    "TRAIN_DATA = 100 # 全データ数は×6\n",
    "EVAL_DATA = 10 # ×6"
   ]
  },
  {
   "cell_type": "markdown",
   "metadata": {},
   "source": [
    "## 2.学習用のデータを準備する"
   ]
  },
  {
   "cell_type": "code",
   "execution_count": 14,
   "metadata": {},
   "outputs": [
    {
     "name": "stdout",
     "output_type": "stream",
     "text": [
      "50 50 50\n"
     ]
    }
   ],
   "source": [
    "#各カテゴリのファイルパス一覧を取得\n",
    "doku = glob.glob('demo_data/dokujo-tsushin/dokujo*.txt')\n",
    "it = glob.glob('demo_data/it-life-hack/it*.txt')\n",
    "lh = glob.glob('demo_data/livedoor-homme/livedoor*.txt')\n",
    "print(len(doku), len(it), len(lh))"
   ]
  },
  {
   "cell_type": "code",
   "execution_count": 5,
   "metadata": {},
   "outputs": [],
   "source": [
    "def make_rand_pair_indices(num):\n",
    "    '''\n",
    "    0~49の50個の数字からランダムなペアを指定した数作成する。\n",
    "    '''\n",
    "    indices = []\n",
    "    while len(indices) < num:\n",
    "        ran = np.random.randint(0, 49, 2)\n",
    "        a = ran.min()\n",
    "        b = ran.max()\n",
    "        if (a, b) not in indices:\n",
    "            indices.append((a,b))\n",
    "        \n",
    "    return indices\n",
    "\n",
    "def show_encode_result(model, title):\n",
    "    '''\n",
    "    全データについて、エンコードしたベクトルから主成分分析し、二次元座標に可視化\n",
    "    ラベルごとに色分けして結果を確認\n",
    "    '''\n",
    "    label = [0]*50 + [1]*50 + [2]*50\n",
    "    vectors = []\n",
    "    for cat in [doku, it, lh]:\n",
    "        for path in tqdm.tqdm(cat):\n",
    "            with open(path, 'r') as f:\n",
    "                #最初の2行はゴミ\n",
    "                f.readline()\n",
    "                f.readline()\n",
    "                txt = f.read()[:100]\n",
    "            vectors.append(model.encode(txt))\n",
    "\n",
    "    vectors = np.array(vectors)\n",
    "    pca = PCA(n_components=2)\n",
    "    pca_comp = pca.fit_transform(vectors)\n",
    "    x = pca_comp[:,0]\n",
    "    y = pca_comp[:,1]\n",
    "    plt.figure(figsize=(5,5))\n",
    "    plt.scatter(x, y, c=label)\n",
    "    plt.title(title)\n",
    "    plt.xlabel('PCA1')\n",
    "    plt.ylabel('PCA2')\n",
    "    plt.savefig(f'{title}.png')\n",
    "    plt.show()\n",
    "    df = pd.DataFrame(vectors)\n",
    "    df['label'] = label\n",
    "    return df"
   ]
  },
  {
   "cell_type": "code",
   "execution_count": 7,
   "metadata": {},
   "outputs": [
    {
     "name": "stdout",
     "output_type": "stream",
     "text": [
      "True\n",
      "False\n",
      "False\n",
      "True\n",
      "False\n",
      "True\n"
     ]
    },
    {
     "data": {
      "text/plain": [
       "600"
      ]
     },
     "execution_count": 7,
     "metadata": {},
     "output_type": "execute_result"
    }
   ],
   "source": [
    "#学習データの作成\n",
    "#三つのカテゴリーの記事、各カテゴリーの組み合わせ（同じものも含む）についてTRAIN_DATA個ずつランダムに文書を選んでペアにする\n",
    "train_samples = []\n",
    "for a, b in itertools.combinations_with_replacement([doku, it, lh], 2):\n",
    "    indices = make_rand_pair_indices(TRAIN_DATA)\n",
    "    print(a==b)\n",
    "    for t1, t2 in indices:\n",
    "        with open(a[t1]) as f:\n",
    "            #最初の2行はゴミ\n",
    "            f.readline()\n",
    "            f.readline()\n",
    "            txt1 = f.read()[:100]\n",
    "        \n",
    "        with open(b[t2]) as f:\n",
    "            #最初の2行はゴミ\n",
    "            f.readline()\n",
    "            f.readline()\n",
    "            txt2 = f.read()[:100]\n",
    "\n",
    "        sample = InputExample(texts=[txt1, txt2], label=int(a==b))\n",
    "        train_samples.append(sample)\n",
    "len(train_samples)\n"
   ]
  },
  {
   "cell_type": "code",
   "execution_count": 8,
   "metadata": {},
   "outputs": [
    {
     "name": "stdout",
     "output_type": "stream",
     "text": [
      "True\n",
      "False\n",
      "False\n",
      "True\n",
      "False\n",
      "True\n"
     ]
    }
   ],
   "source": [
    "#検証データ作成\n",
    "sent1 = []\n",
    "sent2 = []\n",
    "lab = []\n",
    "for a, b in itertools.combinations_with_replacement([doku, it, lh], 2):\n",
    "    indices = make_rand_pair_indices(EVAL_DATA)\n",
    "    print(a==b)\n",
    "    for t1, t2 in indices:\n",
    "        with open(a[t1]) as f:\n",
    "            f.readline()\n",
    "            f.readline()\n",
    "            sent1.append(f.read()[:100])\n",
    "        \n",
    "        with open(b[t2]) as f:\n",
    "            f.readline()\n",
    "            f.readline()\n",
    "            sent2.append(f.read()[:100])\n",
    "\n",
    "        lab.append(int(a==b))\n",
    "\n",
    "evaluator = sentence_transformers.evaluation.BinaryClassificationEvaluator(sent1, sent2, lab, batch_size=BATCH_SIZE)"
   ]
  },
  {
   "cell_type": "code",
   "execution_count": 9,
   "metadata": {},
   "outputs": [],
   "source": [
    "train_dataset = SentencesDataset(train_samples, model=model)\n",
    "train_dataloader = DataLoader(train_dataset, shuffle=True, batch_size=BATCH_SIZE)\n",
    "train_loss = losses.ContrastiveLoss(model=model)"
   ]
  },
  {
   "cell_type": "code",
   "execution_count": 10,
   "metadata": {},
   "outputs": [
    {
     "name": "stderr",
     "output_type": "stream",
     "text": [
      "100%|██████████| 50/50 [00:03<00:00, 13.56it/s]\n",
      "100%|██████████| 50/50 [00:01<00:00, 47.94it/s]\n",
      "100%|██████████| 50/50 [00:01<00:00, 43.90it/s]\n"
     ]
    },
    {
     "data": {
      "image/png": "[encoded data removed]",
      "text/plain": [
       "<Figure size 360x360 with 1 Axes>"
      ]
     },
     "metadata": {
      "needs_background": "light"
     },
     "output_type": "display_data"
    }
   ],
   "source": [
    "#学習前の結果を見ておく。\n",
    "show_encode_result(model, 'before')"
   ]
  },
  {
   "cell_type": "markdown",
   "metadata": {},
   "source": [
    "## 3.ファインチューニング"
   ]
  },
  {
   "cell_type": "code",
   "execution_count": 11,
   "metadata": {
    "scrolled": false
   },
   "outputs": [
    {
     "name": "stderr",
     "output_type": "stream",
     "text": [
      "Iteration: 100%|██████████| 75/75 [00:39<00:00,  1.92it/s]\n",
      "Iteration: 100%|██████████| 75/75 [00:41<00:00,  1.82it/s]\n",
      "Iteration: 100%|██████████| 75/75 [00:38<00:00,  1.96it/s]\n",
      "Iteration: 100%|██████████| 75/75 [00:40<00:00,  1.85it/s]\n",
      "Iteration: 100%|██████████| 75/75 [00:41<00:00,  1.82it/s]\n",
      "Iteration: 100%|██████████| 75/75 [00:43<00:00,  1.74it/s]\n",
      "Iteration: 100%|██████████| 75/75 [00:42<00:00,  1.74it/s]\n",
      "Iteration: 100%|██████████| 75/75 [00:42<00:00,  1.77it/s]\n",
      "Iteration: 100%|██████████| 75/75 [00:42<00:00,  1.75it/s]\n",
      "Iteration: 100%|██████████| 75/75 [00:42<00:00,  1.78it/s]\n",
      "Iteration: 100%|██████████| 75/75 [00:42<00:00,  1.76it/s]\n",
      "Iteration: 100%|██████████| 75/75 [00:43<00:00,  1.71it/s]\n",
      "Iteration: 100%|██████████| 75/75 [00:43<00:00,  1.72it/s]\n",
      "Iteration: 100%|██████████| 75/75 [00:43<00:00,  1.71it/s]\n",
      "Iteration: 100%|██████████| 75/75 [00:39<00:00,  1.91it/s]\n",
      "Iteration: 100%|██████████| 75/75 [00:39<00:00,  1.92it/s]\n",
      "Iteration: 100%|██████████| 75/75 [00:38<00:00,  1.95it/s]\n",
      "Iteration: 100%|██████████| 75/75 [00:38<00:00,  1.95it/s]\n",
      "Iteration: 100%|██████████| 75/75 [00:38<00:00,  1.95it/s]\n",
      "Iteration: 100%|██████████| 75/75 [00:38<00:00,  1.96it/s]\n",
      "Epoch: 100%|██████████| 20/20 [14:00<00:00, 42.04s/it]\n"
     ]
    }
   ],
   "source": [
    "# ファインチューニングした結果は自動で保存される\n",
    "model.fit(\n",
    "    train_objectives=[(train_dataloader, train_loss)],\n",
    "    evaluator=evaluator,\n",
    "    epochs=NUM_EPOCH,\n",
    "    evaluation_steps=EVAL_STEPS,\n",
    "    output_path=\"./sbert\",\n",
    "    show_progress_bar=True)"
   ]
  },
  {
   "cell_type": "code",
   "execution_count": 8,
   "metadata": {},
   "outputs": [
    {
     "name": "stderr",
     "output_type": "stream",
     "text": [
      "100%|██████████| 50/50 [00:01<00:00, 25.65it/s]\n",
      "100%|██████████| 50/50 [00:01<00:00, 45.33it/s]\n",
      "100%|██████████| 50/50 [00:01<00:00, 42.21it/s]\n"
     ]
    },
    {
     "data": {
      "image/png": "[encoded data removed]",
      "text/plain": [
       "<Figure size 360x360 with 1 Axes>"
      ]
     },
     "metadata": {
      "needs_background": "light"
     },
     "output_type": "display_data"
    }
   ],
   "source": [
    "# 結果を表示\n",
    "sbert = SentenceTransformer('./sbert')\n",
    "df = show_encode_result(sbert, 'After')"
   ]
  },
  {
   "cell_type": "markdown",
   "metadata": {},
   "source": [
    "# 4. 学習済みモデルによる推論"
   ]
  },
  {
   "cell_type": "code",
   "execution_count": 6,
   "metadata": {},
   "outputs": [],
   "source": [
    "#モデルの読み込み\n",
    "sbert = SentenceTransformer('./sbert')\n",
    "#分類対象の文章を作成\n",
    "vec1 = sbert.encode('過去の恋愛の想い出をきれい残したいのなら、知らないほうがいいこともあるかもしれません')\n",
    "vec2 = sbert.encode('・Excelの新規ファイルにムダなシートを作らない')\n",
    "vec3 = sbert.encode('メタボリックシンドローム最大の原因は食事・運動・休養の“生活習慣”にあります。')"
   ]
  },
  {
   "cell_type": "code",
   "execution_count": 9,
   "metadata": {},
   "outputs": [],
   "source": [
    "x = df.drop(['label'], axis=1).values\n",
    "y = df['label'].values"
   ]
  },
  {
   "cell_type": "code",
   "execution_count": 10,
   "metadata": {},
   "outputs": [
    {
     "data": {
      "text/plain": [
       "KNeighborsClassifier(n_neighbors=3)"
      ]
     },
     "execution_count": 10,
     "metadata": {},
     "output_type": "execute_result"
    }
   ],
   "source": [
    "#KNNで距離の近い文章と同じカテゴリーに分類\n",
    "from sklearn.neighbors import KNeighborsClassifier\n",
    "knn = KNeighborsClassifier(n_neighbors=3)\n",
    "knn.fit(x, y)"
   ]
  },
  {
   "cell_type": "code",
   "execution_count": 13,
   "metadata": {},
   "outputs": [
    {
     "name": "stdout",
     "output_type": "stream",
     "text": [
      "(array([[6.5382843, 6.690769 , 6.7486815]], dtype=float32), array([[25, 45, 42]], dtype=int64))\n",
      "[0]\n",
      "(array([[5.2267747, 5.932929 , 6.3580985]], dtype=float32), array([[68, 90, 80]], dtype=int64))\n",
      "[1]\n",
      "(array([[7.970429, 8.106884, 8.439559]], dtype=float32), array([[109, 136, 140]], dtype=int64))\n",
      "[2]\n"
     ]
    }
   ],
   "source": [
    "#結果の表示\n",
    "for vec in [vec1, vec2, vec3]:\n",
    "    print(knn.kneighbors(vec.reshape(1, -1), 3))\n",
    "    print(knn.predict(vec.reshape(1, -1)))"
   ]
  },
  {
   "cell_type": "code",
   "execution_count": null,
   "metadata": {},
   "outputs": [],
   "source": []
  }
 ],
 "metadata": {
  "interpreter": {
   "hash": "38e72a74dcf811cd32004e89e6676cec702f5fbdaa51de72beb67ac19438dce3"
  },
  "kernelspec": {
   "display_name": "Environment (conda_chatbot)",
   "language": "python",
   "name": "python3"
  },
  "language_info": {
   "codemirror_mode": {
    "name": "ipython",
    "version": 3
   },
   "file_extension": ".py",
   "mimetype": "text/x-python",
   "name": "python",
   "nbconvert_exporter": "python",
   "pygments_lexer": "ipython3",
   "version": "3.9.7"
  }
 },
 "nbformat": 4,
 "nbformat_minor": 4
}
