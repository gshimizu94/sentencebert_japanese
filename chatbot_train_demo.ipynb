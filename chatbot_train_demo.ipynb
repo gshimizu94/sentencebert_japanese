{
 "cells": [
  {
   "cell_type": "markdown",
   "metadata": {},
   "source": [
    "## 0.必要なライブラリを準備する"
   ]
  },
  {
   "cell_type": "code",
   "execution_count": 1,
   "metadata": {},
   "outputs": [],
   "source": [
    "#　必要なライブラリをインポートする\n",
    "import numpy as np\n",
    "import pandas as pd\n",
    "from pprint import pprint as p\n",
    "import warnings\n",
    "warnings.simplefilter('ignore')\n",
    "import openpyxl as px\n",
    "import glob\n",
    "import torch\n",
    "import itertools\n",
    "import transformers\n",
    "transformers.BertTokenizer = transformers.BertJapaneseTokenizer\n",
    "import sentence_transformers\n",
    "from sentence_transformers import SentenceTransformer, losses, InputExample\n",
    "from sentence_transformers import models\n",
    "from sentence_transformers.datasets import SentencesDataset\n",
    "from torch.utils.data import DataLoader\n",
    "from sklearn.decomposition import PCA\n",
    "import tqdm\n",
    "import matplotlib.pyplot as plt"
   ]
  },
  {
   "cell_type": "markdown",
   "metadata": {},
   "source": [
    "## 1.モデルを準備する"
   ]
  },
  {
   "cell_type": "code",
   "execution_count": 3,
   "metadata": {},
   "outputs": [
    {
     "name": "stderr",
     "output_type": "stream",
     "text": [
      "Some weights of the model checkpoint at cl-tohoku/bert-base-japanese-whole-word-masking were not used when initializing BertModel: ['cls.predictions.transform.LayerNorm.bias', 'cls.predictions.decoder.weight', 'cls.seq_relationship.bias', 'cls.predictions.transform.dense.bias', 'cls.predictions.transform.LayerNorm.weight', 'cls.predictions.bias', 'cls.seq_relationship.weight', 'cls.predictions.transform.dense.weight']\n",
      "- This IS expected if you are initializing BertModel from the checkpoint of a model trained on another task or with another architecture (e.g. initializing a BertForSequenceClassification model from a BertForPreTraining model).\n",
      "- This IS NOT expected if you are initializing BertModel from the checkpoint of a model that you expect to be exactly identical (initializing a BertForSequenceClassification model from a BertForSequenceClassification model).\n"
     ]
    }
   ],
   "source": [
    "# 事前学習済みBERTを読み込む\n",
    "bert = models.Transformer(\"cl-tohoku/bert-base-japanese-whole-word-masking\")\n",
    "pooling = models.Pooling(\n",
    "        bert.get_word_embedding_dimension(),\n",
    "        pooling_mode_mean_tokens=True,\n",
    ")\n",
    "model = SentenceTransformer(modules=[bert, pooling])"
   ]
  },
  {
   "cell_type": "code",
   "execution_count": 4,
   "metadata": {},
   "outputs": [],
   "source": [
    "# パラメータを設定\n",
    "BATCH_SIZE = 8\n",
    "NUM_EPOCH = 20\n",
    "EVAL_STEPS = 10\n",
    "TRAIN_DATA = 100 # 全データ数は×6\n",
    "EVAL_DATA = 10 # ×6"
   ]
  },
  {
   "cell_type": "markdown",
   "metadata": {},
   "source": [
    "## 2.学習用のデータを準備する"
   ]
  },
  {
   "cell_type": "code",
   "execution_count": 5,
   "metadata": {},
   "outputs": [
    {
     "name": "stdout",
     "output_type": "stream",
     "text": [
      "50 50 50\n"
     ]
    }
   ],
   "source": [
    "doku = glob.glob('demo_data/dokujo-tsushin/*.txt')\n",
    "it = glob.glob('demo_data/it-life-hack/*.txt')\n",
    "lh = glob.glob('demo_data/livedoor-homme/*.txt')\n",
    "print(len(doku), len(it), len(lh))"
   ]
  },
  {
   "cell_type": "code",
   "execution_count": 3,
   "metadata": {},
   "outputs": [],
   "source": [
    "def make_rand_pair_indices(num):\n",
    "    '''\n",
    "    0~49の50個の数字からランダムなペアを指定した数作成する。\n",
    "    '''\n",
    "    indices = []\n",
    "    while len(indices) < num:\n",
    "        ran = np.random.randint(0, 49, 2)\n",
    "        a = ran.min()\n",
    "        b = ran.max()\n",
    "        if (a, b) not in indices:\n",
    "            indices.append((a,b))\n",
    "        \n",
    "    return indices\n",
    "\n",
    "def show_encode_result(model, title):\n",
    "    '''\n",
    "    全データについて、エンコードしたベクトルから主成分分析し、二次元座標に可視化\n",
    "    ラベルごとに色分けして結果を確認\n",
    "    '''\n",
    "    label = [0]*50 + [1]*50 + [2]*50\n",
    "    vectors = []\n",
    "    for cat in [doku, it, lh]:\n",
    "        for path in tqdm.tqdm(cat):\n",
    "            with open(path, 'r') as f:\n",
    "                #最初の2行はゴミ\n",
    "                f.readline()\n",
    "                f.readline()\n",
    "                txt = f.read()[:100]\n",
    "            vectors.append(model.encode(txt))\n",
    "\n",
    "    vectors = np.array(vectors)\n",
    "    pca = PCA(n_components=2)\n",
    "    pca_comp = pca.fit_transform(vectors)\n",
    "    x = pca_comp[:,0]\n",
    "    y = pca_comp[:,1]\n",
    "    plt.figure(figsize=(5,5))\n",
    "    plt.scatter(x, y, c=label)\n",
    "    plt.title(title)\n",
    "    plt.xlabel('PCA1')\n",
    "    plt.ylabel('PCA2')\n",
    "    plt.savefig(f'{title}.png')\n",
    "    plt.show()\n",
    "    df = pd.DataFrame(vectors)\n",
    "    df['label'] = label\n",
    "    return df"
   ]
  },
  {
   "cell_type": "code",
   "execution_count": 7,
   "metadata": {},
   "outputs": [
    {
     "name": "stdout",
     "output_type": "stream",
     "text": [
      "True\n",
      "False\n",
      "False\n",
      "True\n",
      "False\n",
      "True\n"
     ]
    },
    {
     "data": {
      "text/plain": [
       "600"
      ]
     },
     "execution_count": 7,
     "metadata": {},
     "output_type": "execute_result"
    }
   ],
   "source": [
    "#学習データの作成\n",
    "#三つのカテゴリーの記事、各カテゴリーの組み合わせ（同じものも含む）についてTRAIN_DATA個ずつランダムに文書を選んでペアにする\n",
    "train_samples = []\n",
    "for a, b in itertools.combinations_with_replacement([doku, it, lh], 2):\n",
    "    indices = make_rand_pair_indices(TRAIN_DATA)\n",
    "    print(a==b)\n",
    "    for t1, t2 in indices:\n",
    "        with open(a[t1]) as f:\n",
    "            #最初の2行はゴミ\n",
    "            f.readline()\n",
    "            f.readline()\n",
    "            txt1 = f.read()[:100]\n",
    "        \n",
    "        with open(b[t2]) as f:\n",
    "            #最初の2行はゴミ\n",
    "            f.readline()\n",
    "            f.readline()\n",
    "            txt2 = f.read()[:100]\n",
    "\n",
    "        sample = InputExample(texts=[txt1, txt2], label=int(a==b))\n",
    "        train_samples.append(sample)\n",
    "len(train_samples)\n"
   ]
  },
  {
   "cell_type": "code",
   "execution_count": 8,
   "metadata": {},
   "outputs": [
    {
     "name": "stdout",
     "output_type": "stream",
     "text": [
      "True\n",
      "False\n",
      "False\n",
      "True\n",
      "False\n",
      "True\n"
     ]
    }
   ],
   "source": [
    "#検証データ作成\n",
    "sent1 = []\n",
    "sent2 = []\n",
    "lab = []\n",
    "for a, b in itertools.combinations_with_replacement([doku, it, lh], 2):\n",
    "    indices = make_rand_pair_indices(EVAL_DATA)\n",
    "    print(a==b)\n",
    "    for t1, t2 in indices:\n",
    "        with open(a[t1]) as f:\n",
    "            f.readline()\n",
    "            f.readline()\n",
    "            sent1.append(f.read()[:100])\n",
    "        \n",
    "        with open(b[t2]) as f:\n",
    "            f.readline()\n",
    "            f.readline()\n",
    "            sent2.append(f.read()[:100])\n",
    "\n",
    "        lab.append(int(a==b))\n",
    "\n",
    "evaluator = sentence_transformers.evaluation.BinaryClassificationEvaluator(sent1, sent2, lab, batch_size=BATCH_SIZE)"
   ]
  },
  {
   "cell_type": "code",
   "execution_count": 9,
   "metadata": {},
   "outputs": [],
   "source": [
    "train_dataset = SentencesDataset(train_samples, model=model)\n",
    "train_dataloader = DataLoader(train_dataset, shuffle=True, batch_size=BATCH_SIZE)\n",
    "train_loss = losses.ContrastiveLoss(model=model)"
   ]
  },
  {
   "cell_type": "code",
   "execution_count": 10,
   "metadata": {},
   "outputs": [
    {
     "name": "stderr",
     "output_type": "stream",
     "text": [
      "100%|██████████| 50/50 [00:03<00:00, 13.56it/s]\n",
      "100%|██████████| 50/50 [00:01<00:00, 47.94it/s]\n",
      "100%|██████████| 50/50 [00:01<00:00, 43.90it/s]\n"
     ]
    },
    {
     "data": {
      "image/png": "[encoded data removed]",
      "text/plain": [
       "<Figure size 360x360 with 1 Axes>"
      ]
     },
     "metadata": {
      "needs_background": "light"
     },
     "output_type": "display_data"
    }
   ],
   "source": [
    "#学習前の結果を見ておく。\n",
    "show_encode_result(model, 'before')"
   ]
  },
  {
   "cell_type": "markdown",
   "metadata": {},
   "source": [
    "## 3.ファインチューニング"
   ]
  },
  {
   "cell_type": "code",
   "execution_count": 11,
   "metadata": {
    "scrolled": false
   },
   "outputs": [
    {
     "name": "stderr",
     "output_type": "stream",
     "text": [
      "Iteration: 100%|██████████| 75/75 [00:39<00:00,  1.92it/s]\n",
      "Iteration: 100%|██████████| 75/75 [00:41<00:00,  1.82it/s]\n",
      "Iteration: 100%|██████████| 75/75 [00:38<00:00,  1.96it/s]\n",
      "Iteration: 100%|██████████| 75/75 [00:40<00:00,  1.85it/s]\n",
      "Iteration: 100%|██████████| 75/75 [00:41<00:00,  1.82it/s]\n",
      "Iteration: 100%|██████████| 75/75 [00:43<00:00,  1.74it/s]\n",
      "Iteration: 100%|██████████| 75/75 [00:42<00:00,  1.74it/s]\n",
      "Iteration: 100%|██████████| 75/75 [00:42<00:00,  1.77it/s]\n",
      "Iteration: 100%|██████████| 75/75 [00:42<00:00,  1.75it/s]\n",
      "Iteration: 100%|██████████| 75/75 [00:42<00:00,  1.78it/s]\n",
      "Iteration: 100%|██████████| 75/75 [00:42<00:00,  1.76it/s]\n",
      "Iteration: 100%|██████████| 75/75 [00:43<00:00,  1.71it/s]\n",
      "Iteration: 100%|██████████| 75/75 [00:43<00:00,  1.72it/s]\n",
      "Iteration: 100%|██████████| 75/75 [00:43<00:00,  1.71it/s]\n",
      "Iteration: 100%|██████████| 75/75 [00:39<00:00,  1.91it/s]\n",
      "Iteration: 100%|██████████| 75/75 [00:39<00:00,  1.92it/s]\n",
      "Iteration: 100%|██████████| 75/75 [00:38<00:00,  1.95it/s]\n",
      "Iteration: 100%|██████████| 75/75 [00:38<00:00,  1.95it/s]\n",
      "Iteration: 100%|██████████| 75/75 [00:38<00:00,  1.95it/s]\n",
      "Iteration: 100%|██████████| 75/75 [00:38<00:00,  1.96it/s]\n",
      "Epoch: 100%|██████████| 20/20 [14:00<00:00, 42.04s/it]\n"
     ]
    }
   ],
   "source": [
    "# ファインチューニングした結果は自動で保存される\n",
    "model.fit(\n",
    "    train_objectives=[(train_dataloader, train_loss)],\n",
    "    evaluator=evaluator,\n",
    "    epochs=NUM_EPOCH,\n",
    "    evaluation_steps=EVAL_STEPS,\n",
    "    output_path=\"./sbert\",\n",
    "    show_progress_bar=True)"
   ]
  },
  {
   "cell_type": "code",
   "execution_count": 16,
   "metadata": {},
   "outputs": [
    {
     "name": "stderr",
     "output_type": "stream",
     "text": [
      "100%|██████████| 50/50 [00:01<00:00, 34.74it/s]\n",
      "100%|██████████| 50/50 [00:01<00:00, 45.65it/s]\n",
      "100%|██████████| 50/50 [00:01<00:00, 44.58it/s]\n"
     ]
    },
    {
     "data": {
      "image/png": "[encoded data removed]",
      "text/plain": [
       "<Figure size 360x360 with 1 Axes>"
      ]
     },
     "metadata": {
      "needs_background": "light"
     },
     "output_type": "display_data"
    }
   ],
   "source": [
    "# 結果を表示\n",
    "sbert = SentenceTransformer('./sbert')\n",
    "df = show_encode_result(sbert, 'After')"
   ]
  },
  {
   "cell_type": "code",
   "execution_count": 17,
   "metadata": {},
   "outputs": [
    {
     "data": {
      "text/html": [
       "<div>\n",
       "<style scoped>\n",
       "    .dataframe tbody tr th:only-of-type {\n",
       "        vertical-align: middle;\n",
       "    }\n",
       "\n",
       "    .dataframe tbody tr th {\n",
       "        vertical-align: top;\n",
       "    }\n",
       "\n",
       "    .dataframe thead th {\n",
       "        text-align: right;\n",
       "    }\n",
       "</style>\n",
       "<table border=\"1\" class=\"dataframe\">\n",
       "  <thead>\n",
       "    <tr style=\"text-align: right;\">\n",
       "      <th></th>\n",
       "      <th>0</th>\n",
       "      <th>1</th>\n",
       "      <th>2</th>\n",
       "      <th>3</th>\n",
       "      <th>4</th>\n",
       "      <th>5</th>\n",
       "      <th>6</th>\n",
       "      <th>7</th>\n",
       "      <th>8</th>\n",
       "      <th>9</th>\n",
       "      <th>...</th>\n",
       "      <th>759</th>\n",
       "      <th>760</th>\n",
       "      <th>761</th>\n",
       "      <th>762</th>\n",
       "      <th>763</th>\n",
       "      <th>764</th>\n",
       "      <th>765</th>\n",
       "      <th>766</th>\n",
       "      <th>767</th>\n",
       "      <th>label</th>\n",
       "    </tr>\n",
       "  </thead>\n",
       "  <tbody>\n",
       "    <tr>\n",
       "      <th>0</th>\n",
       "      <td>-0.147905</td>\n",
       "      <td>-0.225576</td>\n",
       "      <td>0.341122</td>\n",
       "      <td>0.069662</td>\n",
       "      <td>-0.165634</td>\n",
       "      <td>-0.211405</td>\n",
       "      <td>-0.085786</td>\n",
       "      <td>0.050720</td>\n",
       "      <td>0.092274</td>\n",
       "      <td>0.001370</td>\n",
       "      <td>...</td>\n",
       "      <td>-0.222061</td>\n",
       "      <td>-0.324847</td>\n",
       "      <td>-0.010668</td>\n",
       "      <td>-0.865249</td>\n",
       "      <td>-1.117309</td>\n",
       "      <td>-0.405329</td>\n",
       "      <td>0.171807</td>\n",
       "      <td>1.037778</td>\n",
       "      <td>-0.010228</td>\n",
       "      <td>0</td>\n",
       "    </tr>\n",
       "    <tr>\n",
       "      <th>1</th>\n",
       "      <td>-0.202737</td>\n",
       "      <td>-0.615712</td>\n",
       "      <td>0.592441</td>\n",
       "      <td>0.337879</td>\n",
       "      <td>-0.179498</td>\n",
       "      <td>-0.214464</td>\n",
       "      <td>0.007708</td>\n",
       "      <td>0.009133</td>\n",
       "      <td>0.163826</td>\n",
       "      <td>0.165351</td>\n",
       "      <td>...</td>\n",
       "      <td>-0.036367</td>\n",
       "      <td>-0.164661</td>\n",
       "      <td>-0.170345</td>\n",
       "      <td>-0.645810</td>\n",
       "      <td>-1.203288</td>\n",
       "      <td>-0.441684</td>\n",
       "      <td>0.154063</td>\n",
       "      <td>0.800678</td>\n",
       "      <td>-0.009586</td>\n",
       "      <td>0</td>\n",
       "    </tr>\n",
       "    <tr>\n",
       "      <th>2</th>\n",
       "      <td>-0.107933</td>\n",
       "      <td>-0.368842</td>\n",
       "      <td>0.517745</td>\n",
       "      <td>-0.155417</td>\n",
       "      <td>-0.289008</td>\n",
       "      <td>-0.506042</td>\n",
       "      <td>-0.251902</td>\n",
       "      <td>0.181513</td>\n",
       "      <td>0.081488</td>\n",
       "      <td>-0.059575</td>\n",
       "      <td>...</td>\n",
       "      <td>-0.017356</td>\n",
       "      <td>-0.721811</td>\n",
       "      <td>-0.097873</td>\n",
       "      <td>-0.667257</td>\n",
       "      <td>-1.295446</td>\n",
       "      <td>-0.457542</td>\n",
       "      <td>0.252030</td>\n",
       "      <td>1.228164</td>\n",
       "      <td>0.255379</td>\n",
       "      <td>0</td>\n",
       "    </tr>\n",
       "    <tr>\n",
       "      <th>3</th>\n",
       "      <td>-0.178271</td>\n",
       "      <td>-0.133885</td>\n",
       "      <td>0.263827</td>\n",
       "      <td>-0.006133</td>\n",
       "      <td>-0.196564</td>\n",
       "      <td>-0.052863</td>\n",
       "      <td>-0.243951</td>\n",
       "      <td>0.196107</td>\n",
       "      <td>0.151322</td>\n",
       "      <td>-0.242504</td>\n",
       "      <td>...</td>\n",
       "      <td>-0.424846</td>\n",
       "      <td>-0.219309</td>\n",
       "      <td>-0.490638</td>\n",
       "      <td>-0.534292</td>\n",
       "      <td>-1.020068</td>\n",
       "      <td>-0.481659</td>\n",
       "      <td>0.171879</td>\n",
       "      <td>0.905037</td>\n",
       "      <td>0.293049</td>\n",
       "      <td>0</td>\n",
       "    </tr>\n",
       "    <tr>\n",
       "      <th>4</th>\n",
       "      <td>0.097398</td>\n",
       "      <td>-0.290838</td>\n",
       "      <td>0.342699</td>\n",
       "      <td>-0.105358</td>\n",
       "      <td>0.280920</td>\n",
       "      <td>0.281805</td>\n",
       "      <td>-0.361095</td>\n",
       "      <td>-0.071906</td>\n",
       "      <td>-0.003774</td>\n",
       "      <td>0.254018</td>\n",
       "      <td>...</td>\n",
       "      <td>-0.434982</td>\n",
       "      <td>0.182681</td>\n",
       "      <td>-0.246087</td>\n",
       "      <td>-0.784501</td>\n",
       "      <td>-1.126660</td>\n",
       "      <td>-0.374437</td>\n",
       "      <td>0.476488</td>\n",
       "      <td>0.643652</td>\n",
       "      <td>-0.211143</td>\n",
       "      <td>0</td>\n",
       "    </tr>\n",
       "  </tbody>\n",
       "</table>\n",
       "<p>5 rows × 769 columns</p>\n",
       "</div>"
      ],
      "text/plain": [
       "          0         1         2         3         4         5         6  \\\n",
       "0 -0.147905 -0.225576  0.341122  0.069662 -0.165634 -0.211405 -0.085786   \n",
       "1 -0.202737 -0.615712  0.592441  0.337879 -0.179498 -0.214464  0.007708   \n",
       "2 -0.107933 -0.368842  0.517745 -0.155417 -0.289008 -0.506042 -0.251902   \n",
       "3 -0.178271 -0.133885  0.263827 -0.006133 -0.196564 -0.052863 -0.243951   \n",
       "4  0.097398 -0.290838  0.342699 -0.105358  0.280920  0.281805 -0.361095   \n",
       "\n",
       "          7         8         9  ...       759       760       761       762  \\\n",
       "0  0.050720  0.092274  0.001370  ... -0.222061 -0.324847 -0.010668 -0.865249   \n",
       "1  0.009133  0.163826  0.165351  ... -0.036367 -0.164661 -0.170345 -0.645810   \n",
       "2  0.181513  0.081488 -0.059575  ... -0.017356 -0.721811 -0.097873 -0.667257   \n",
       "3  0.196107  0.151322 -0.242504  ... -0.424846 -0.219309 -0.490638 -0.534292   \n",
       "4 -0.071906 -0.003774  0.254018  ... -0.434982  0.182681 -0.246087 -0.784501   \n",
       "\n",
       "        763       764       765       766       767  label  \n",
       "0 -1.117309 -0.405329  0.171807  1.037778 -0.010228      0  \n",
       "1 -1.203288 -0.441684  0.154063  0.800678 -0.009586      0  \n",
       "2 -1.295446 -0.457542  0.252030  1.228164  0.255379      0  \n",
       "3 -1.020068 -0.481659  0.171879  0.905037  0.293049      0  \n",
       "4 -1.126660 -0.374437  0.476488  0.643652 -0.211143      0  \n",
       "\n",
       "[5 rows x 769 columns]"
      ]
     },
     "execution_count": 17,
     "metadata": {},
     "output_type": "execute_result"
    }
   ],
   "source": [
    "df.to_csv('vectors.csv', index=False)\n",
    "df.head()"
   ]
  },
  {
   "cell_type": "code",
   "execution_count": 18,
   "metadata": {},
   "outputs": [
    {
     "data": {
      "text/html": [
       "<div>\n",
       "<style scoped>\n",
       "    .dataframe tbody tr th:only-of-type {\n",
       "        vertical-align: middle;\n",
       "    }\n",
       "\n",
       "    .dataframe tbody tr th {\n",
       "        vertical-align: top;\n",
       "    }\n",
       "\n",
       "    .dataframe thead th {\n",
       "        text-align: right;\n",
       "    }\n",
       "</style>\n",
       "<table border=\"1\" class=\"dataframe\">\n",
       "  <thead>\n",
       "    <tr style=\"text-align: right;\">\n",
       "      <th></th>\n",
       "      <th>0</th>\n",
       "      <th>1</th>\n",
       "      <th>2</th>\n",
       "      <th>3</th>\n",
       "      <th>4</th>\n",
       "      <th>5</th>\n",
       "      <th>6</th>\n",
       "      <th>7</th>\n",
       "      <th>8</th>\n",
       "      <th>9</th>\n",
       "      <th>...</th>\n",
       "      <th>759</th>\n",
       "      <th>760</th>\n",
       "      <th>761</th>\n",
       "      <th>762</th>\n",
       "      <th>763</th>\n",
       "      <th>764</th>\n",
       "      <th>765</th>\n",
       "      <th>766</th>\n",
       "      <th>767</th>\n",
       "      <th>label</th>\n",
       "    </tr>\n",
       "  </thead>\n",
       "  <tbody>\n",
       "    <tr>\n",
       "      <th>0</th>\n",
       "      <td>-0.147905</td>\n",
       "      <td>-0.225576</td>\n",
       "      <td>0.341122</td>\n",
       "      <td>0.069662</td>\n",
       "      <td>-0.165634</td>\n",
       "      <td>-0.211405</td>\n",
       "      <td>-0.085786</td>\n",
       "      <td>0.050720</td>\n",
       "      <td>0.092274</td>\n",
       "      <td>0.001370</td>\n",
       "      <td>...</td>\n",
       "      <td>-0.222061</td>\n",
       "      <td>-0.324847</td>\n",
       "      <td>-0.010668</td>\n",
       "      <td>-0.865249</td>\n",
       "      <td>-1.117309</td>\n",
       "      <td>-0.405329</td>\n",
       "      <td>0.171807</td>\n",
       "      <td>1.037778</td>\n",
       "      <td>-0.010228</td>\n",
       "      <td>0</td>\n",
       "    </tr>\n",
       "    <tr>\n",
       "      <th>1</th>\n",
       "      <td>-0.202737</td>\n",
       "      <td>-0.615712</td>\n",
       "      <td>0.592441</td>\n",
       "      <td>0.337879</td>\n",
       "      <td>-0.179498</td>\n",
       "      <td>-0.214464</td>\n",
       "      <td>0.007708</td>\n",
       "      <td>0.009133</td>\n",
       "      <td>0.163826</td>\n",
       "      <td>0.165351</td>\n",
       "      <td>...</td>\n",
       "      <td>-0.036367</td>\n",
       "      <td>-0.164661</td>\n",
       "      <td>-0.170345</td>\n",
       "      <td>-0.645810</td>\n",
       "      <td>-1.203288</td>\n",
       "      <td>-0.441684</td>\n",
       "      <td>0.154063</td>\n",
       "      <td>0.800678</td>\n",
       "      <td>-0.009586</td>\n",
       "      <td>0</td>\n",
       "    </tr>\n",
       "    <tr>\n",
       "      <th>2</th>\n",
       "      <td>-0.107933</td>\n",
       "      <td>-0.368842</td>\n",
       "      <td>0.517745</td>\n",
       "      <td>-0.155417</td>\n",
       "      <td>-0.289008</td>\n",
       "      <td>-0.506042</td>\n",
       "      <td>-0.251902</td>\n",
       "      <td>0.181513</td>\n",
       "      <td>0.081488</td>\n",
       "      <td>-0.059575</td>\n",
       "      <td>...</td>\n",
       "      <td>-0.017356</td>\n",
       "      <td>-0.721811</td>\n",
       "      <td>-0.097873</td>\n",
       "      <td>-0.667257</td>\n",
       "      <td>-1.295446</td>\n",
       "      <td>-0.457542</td>\n",
       "      <td>0.252030</td>\n",
       "      <td>1.228164</td>\n",
       "      <td>0.255379</td>\n",
       "      <td>0</td>\n",
       "    </tr>\n",
       "    <tr>\n",
       "      <th>3</th>\n",
       "      <td>-0.178271</td>\n",
       "      <td>-0.133885</td>\n",
       "      <td>0.263827</td>\n",
       "      <td>-0.006133</td>\n",
       "      <td>-0.196564</td>\n",
       "      <td>-0.052863</td>\n",
       "      <td>-0.243951</td>\n",
       "      <td>0.196107</td>\n",
       "      <td>0.151322</td>\n",
       "      <td>-0.242504</td>\n",
       "      <td>...</td>\n",
       "      <td>-0.424846</td>\n",
       "      <td>-0.219309</td>\n",
       "      <td>-0.490638</td>\n",
       "      <td>-0.534292</td>\n",
       "      <td>-1.020068</td>\n",
       "      <td>-0.481659</td>\n",
       "      <td>0.171879</td>\n",
       "      <td>0.905037</td>\n",
       "      <td>0.293048</td>\n",
       "      <td>0</td>\n",
       "    </tr>\n",
       "    <tr>\n",
       "      <th>4</th>\n",
       "      <td>0.097398</td>\n",
       "      <td>-0.290838</td>\n",
       "      <td>0.342699</td>\n",
       "      <td>-0.105358</td>\n",
       "      <td>0.280920</td>\n",
       "      <td>0.281805</td>\n",
       "      <td>-0.361095</td>\n",
       "      <td>-0.071906</td>\n",
       "      <td>-0.003774</td>\n",
       "      <td>0.254018</td>\n",
       "      <td>...</td>\n",
       "      <td>-0.434982</td>\n",
       "      <td>0.182681</td>\n",
       "      <td>-0.246087</td>\n",
       "      <td>-0.784501</td>\n",
       "      <td>-1.126660</td>\n",
       "      <td>-0.374437</td>\n",
       "      <td>0.476488</td>\n",
       "      <td>0.643652</td>\n",
       "      <td>-0.211143</td>\n",
       "      <td>0</td>\n",
       "    </tr>\n",
       "  </tbody>\n",
       "</table>\n",
       "<p>5 rows × 769 columns</p>\n",
       "</div>"
      ],
      "text/plain": [
       "          0         1         2         3         4         5         6  \\\n",
       "0 -0.147905 -0.225576  0.341122  0.069662 -0.165634 -0.211405 -0.085786   \n",
       "1 -0.202737 -0.615712  0.592441  0.337879 -0.179498 -0.214464  0.007708   \n",
       "2 -0.107933 -0.368842  0.517745 -0.155417 -0.289008 -0.506042 -0.251902   \n",
       "3 -0.178271 -0.133885  0.263827 -0.006133 -0.196564 -0.052863 -0.243951   \n",
       "4  0.097398 -0.290838  0.342699 -0.105358  0.280920  0.281805 -0.361095   \n",
       "\n",
       "          7         8         9  ...       759       760       761       762  \\\n",
       "0  0.050720  0.092274  0.001370  ... -0.222061 -0.324847 -0.010668 -0.865249   \n",
       "1  0.009133  0.163826  0.165351  ... -0.036367 -0.164661 -0.170345 -0.645810   \n",
       "2  0.181513  0.081488 -0.059575  ... -0.017356 -0.721811 -0.097873 -0.667257   \n",
       "3  0.196107  0.151322 -0.242504  ... -0.424846 -0.219309 -0.490638 -0.534292   \n",
       "4 -0.071906 -0.003774  0.254018  ... -0.434982  0.182681 -0.246087 -0.784501   \n",
       "\n",
       "        763       764       765       766       767  label  \n",
       "0 -1.117309 -0.405329  0.171807  1.037778 -0.010228      0  \n",
       "1 -1.203288 -0.441684  0.154063  0.800678 -0.009586      0  \n",
       "2 -1.295446 -0.457542  0.252030  1.228164  0.255379      0  \n",
       "3 -1.020068 -0.481659  0.171879  0.905037  0.293048      0  \n",
       "4 -1.126660 -0.374437  0.476488  0.643652 -0.211143      0  \n",
       "\n",
       "[5 rows x 769 columns]"
      ]
     },
     "execution_count": 18,
     "metadata": {},
     "output_type": "execute_result"
    }
   ],
   "source": [
    "df = pd.read_csv('vectors.csv')\n",
    "df.head()"
   ]
  },
  {
   "cell_type": "code",
   "execution_count": 19,
   "metadata": {},
   "outputs": [],
   "source": [
    "sbert = SentenceTransformer('./sbert')\n",
    "vec1 = sbert.encode('過去の恋愛の想い出をきれい残したいのなら、知らないほうがいいこともあるかもしれません')\n",
    "vec2 = sbert.encode('・Excelの新規ファイルにムダなシートを作らない')\n",
    "vec3 = sbert.encode('メタボリックシンドローム最大の原因は食事・運動・休養の“生活習慣”にあります。')"
   ]
  },
  {
   "cell_type": "code",
   "execution_count": 22,
   "metadata": {},
   "outputs": [],
   "source": [
    "x = df.drop(['label'], axis=1).values\n",
    "y = df['label'].values"
   ]
  },
  {
   "cell_type": "code",
   "execution_count": 24,
   "metadata": {},
   "outputs": [
    {
     "data": {
      "text/plain": [
       "KNeighborsClassifier(n_neighbors=3)"
      ]
     },
     "execution_count": 24,
     "metadata": {},
     "output_type": "execute_result"
    }
   ],
   "source": [
    "from sklearn.neighbors import KNeighborsClassifier\n",
    "knn = KNeighborsClassifier(n_neighbors=3)\n",
    "knn.fit(x, y)\n"
   ]
  },
  {
   "cell_type": "code",
   "execution_count": 30,
   "metadata": {},
   "outputs": [
    {
     "name": "stdout",
     "output_type": "stream",
     "text": [
      "(array([[6.53828408, 6.69076905, 6.74868151]]), array([[25, 45, 42]], dtype=int64))\n",
      "(array([[6.53828408, 6.69076905, 6.74868151]]), array([[25, 45, 42]], dtype=int64))\n",
      "(array([[6.53828408, 6.69076905, 6.74868151]]), array([[25, 45, 42]], dtype=int64))\n"
     ]
    }
   ],
   "source": [
    "for vec in [vec1, vec2, vec3]:\n",
    "    print(knn.kneighbors(vec1.reshape(1, -1), 3))"
   ]
  }
 ],
 "metadata": {
  "interpreter": {
   "hash": "38e72a74dcf811cd32004e89e6676cec702f5fbdaa51de72beb67ac19438dce3"
  },
  "kernelspec": {
   "display_name": "Environment (conda_chatbot)",
   "language": "python",
   "name": "python3"
  },
  "language_info": {
   "codemirror_mode": {
    "name": "ipython",
    "version": 3
   },
   "file_extension": ".py",
   "mimetype": "text/x-python",
   "name": "python",
   "nbconvert_exporter": "python",
   "pygments_lexer": "ipython3",
   "version": "3.9.7"
  }
 },
 "nbformat": 4,
 "nbformat_minor": 4
}
